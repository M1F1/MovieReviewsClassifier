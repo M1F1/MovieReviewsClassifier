{
 "cells": [
  {
   "cell_type": "code",
   "execution_count": 16,
   "metadata": {},
   "outputs": [
    {
     "name": "stderr",
     "output_type": "stream",
     "text": [
      "C:\\Programy\\Anaconda3\\envs\\SentimentProject\\lib\\site-packages\\gensim\\utils.py:862: UserWarning: detected Windows; aliasing chunkize to chunkize_serial\n",
      "  warnings.warn(\"detected Windows; aliasing chunkize to chunkize_serial\")\n"
     ]
    }
   ],
   "source": [
    "import os\n",
    "import sys\n",
    "sys.path.insert(0, 'C:\\\\Users\\\\Qbit\\\\Inzynierka')\n",
    "from Models.Word2Vec import Word2vec as w2v\n",
    "import myTools.moving_commands as mc\n",
    "import myTools.preprocessingData as prep\n",
    "import pandas as pd\n",
    "import numpy as np\n",
    "import tensorflow as tf\n",
    "import nltk\n",
    "import re"
   ]
  },
  {
   "cell_type": "code",
   "execution_count": 3,
   "metadata": {},
   "outputs": [
    {
     "data": {
      "text/plain": [
       "'C:\\\\Users\\\\Qbit\\\\Inzynierka'"
      ]
     },
     "execution_count": 3,
     "metadata": {},
     "output_type": "execute_result"
    }
   ],
   "source": [
    "os.getcwd()\n"
   ]
  },
  {
   "cell_type": "markdown",
   "metadata": {},
   "source": [
    "### Choosing hyperparameters  MLP"
   ]
  },
  {
   "cell_type": "code",
   "execution_count": 4,
   "metadata": {
    "collapsed": true
   },
   "outputs": [],
   "source": [
    "os.chdir(os.path.join(os.path.curdir, 'Models', 'MLP', 'hyperparameters_search'))"
   ]
  },
  {
   "cell_type": "code",
   "execution_count": 5,
   "metadata": {},
   "outputs": [
    {
     "data": {
      "text/plain": [
       "'C:\\\\Users\\\\Qbit\\\\Inzynierka\\\\Models\\\\MLP\\\\hyperparameters_search'"
      ]
     },
     "execution_count": 5,
     "metadata": {},
     "output_type": "execute_result"
    }
   ],
   "source": [
    "os.getcwd()"
   ]
  },
  {
   "cell_type": "code",
   "execution_count": 6,
   "metadata": {
    "collapsed": true
   },
   "outputs": [],
   "source": [
    "summary = pd.read_csv('1512568671.csv')"
   ]
  },
  {
   "cell_type": "code",
   "execution_count": 7,
   "metadata": {
    "collapsed": true
   },
   "outputs": [],
   "source": [
    "summary.sort_values(by='accuracy', inplace=True)"
   ]
  },
  {
   "cell_type": "code",
   "execution_count": 8,
   "metadata": {},
   "outputs": [
    {
     "data": {
      "text/html": [
       "<div>\n",
       "<style>\n",
       "    .dataframe thead tr:only-child th {\n",
       "        text-align: right;\n",
       "    }\n",
       "\n",
       "    .dataframe thead th {\n",
       "        text-align: left;\n",
       "    }\n",
       "\n",
       "    .dataframe tbody tr th {\n",
       "        vertical-align: top;\n",
       "    }\n",
       "</style>\n",
       "<table border=\"1\" class=\"dataframe\">\n",
       "  <thead>\n",
       "    <tr style=\"text-align: right;\">\n",
       "      <th></th>\n",
       "      <th>accuracy</th>\n",
       "      <th>model_name</th>\n",
       "      <th>elapsed_training_time</th>\n",
       "      <th>elapsed_testing_time</th>\n",
       "    </tr>\n",
       "  </thead>\n",
       "  <tbody>\n",
       "    <tr>\n",
       "      <th>2</th>\n",
       "      <td>0.499596</td>\n",
       "      <td>bs_180_dkp_0.85_lr_0.6099753773706386_ls_116,1...</td>\n",
       "      <td>268.925304</td>\n",
       "      <td>12.213873</td>\n",
       "    </tr>\n",
       "    <tr>\n",
       "      <th>0</th>\n",
       "      <td>0.499900</td>\n",
       "      <td>bs_40_dkp_0.607_lr_0.5728707128404673_ls_421,4...</td>\n",
       "      <td>581.946391</td>\n",
       "      <td>27.274810</td>\n",
       "    </tr>\n",
       "    <tr>\n",
       "      <th>1</th>\n",
       "      <td>0.499900</td>\n",
       "      <td>bs_200_dkp_0.435_lr_0.2655410200301785_ls_410,445</td>\n",
       "      <td>286.732209</td>\n",
       "      <td>12.663840</td>\n",
       "    </tr>\n",
       "    <tr>\n",
       "      <th>4</th>\n",
       "      <td>0.500000</td>\n",
       "      <td>bs_60_dkp_0.855_lr_0.27331863831571407_ls_311,...</td>\n",
       "      <td>342.149779</td>\n",
       "      <td>12.147856</td>\n",
       "    </tr>\n",
       "    <tr>\n",
       "      <th>3</th>\n",
       "      <td>0.500100</td>\n",
       "      <td>bs_400_dkp_0.424_lr_0.00667935915830208_ls_473...</td>\n",
       "      <td>288.326862</td>\n",
       "      <td>12.548457</td>\n",
       "    </tr>\n",
       "    <tr>\n",
       "      <th>6</th>\n",
       "      <td>0.743522</td>\n",
       "      <td>bs_260_dkp_0.487_lr_0.015778205406024252_ls_68...</td>\n",
       "      <td>38.755707</td>\n",
       "      <td>12.180568</td>\n",
       "    </tr>\n",
       "    <tr>\n",
       "      <th>5</th>\n",
       "      <td>0.790752</td>\n",
       "      <td>bs_240_dkp_0.567_lr_0.09382546338399245_ls_60,140</td>\n",
       "      <td>233.417614</td>\n",
       "      <td>11.568303</td>\n",
       "    </tr>\n",
       "    <tr>\n",
       "      <th>8</th>\n",
       "      <td>0.849496</td>\n",
       "      <td>bs_160_dkp_0.695_lr_0.006998633631026774_ls_36...</td>\n",
       "      <td>365.578227</td>\n",
       "      <td>12.854877</td>\n",
       "    </tr>\n",
       "    <tr>\n",
       "      <th>7</th>\n",
       "      <td>0.856700</td>\n",
       "      <td>bs_80_dkp_0.961_lr_0.06490871479410501_ls_216</td>\n",
       "      <td>297.601408</td>\n",
       "      <td>12.205411</td>\n",
       "    </tr>\n",
       "    <tr>\n",
       "      <th>9</th>\n",
       "      <td>0.857560</td>\n",
       "      <td>bs_160_dkp_0.554_lr_0.004319477750077014_ls_19...</td>\n",
       "      <td>369.198270</td>\n",
       "      <td>13.217221</td>\n",
       "    </tr>\n",
       "  </tbody>\n",
       "</table>\n",
       "</div>"
      ],
      "text/plain": [
       "   accuracy                                         model_name  \\\n",
       "2  0.499596  bs_180_dkp_0.85_lr_0.6099753773706386_ls_116,1...   \n",
       "0  0.499900  bs_40_dkp_0.607_lr_0.5728707128404673_ls_421,4...   \n",
       "1  0.499900  bs_200_dkp_0.435_lr_0.2655410200301785_ls_410,445   \n",
       "4  0.500000  bs_60_dkp_0.855_lr_0.27331863831571407_ls_311,...   \n",
       "3  0.500100  bs_400_dkp_0.424_lr_0.00667935915830208_ls_473...   \n",
       "6  0.743522  bs_260_dkp_0.487_lr_0.015778205406024252_ls_68...   \n",
       "5  0.790752  bs_240_dkp_0.567_lr_0.09382546338399245_ls_60,140   \n",
       "8  0.849496  bs_160_dkp_0.695_lr_0.006998633631026774_ls_36...   \n",
       "7  0.856700      bs_80_dkp_0.961_lr_0.06490871479410501_ls_216   \n",
       "9  0.857560  bs_160_dkp_0.554_lr_0.004319477750077014_ls_19...   \n",
       "\n",
       "   elapsed_training_time  elapsed_testing_time  \n",
       "2             268.925304             12.213873  \n",
       "0             581.946391             27.274810  \n",
       "1             286.732209             12.663840  \n",
       "4             342.149779             12.147856  \n",
       "3             288.326862             12.548457  \n",
       "6              38.755707             12.180568  \n",
       "5             233.417614             11.568303  \n",
       "8             365.578227             12.854877  \n",
       "7             297.601408             12.205411  \n",
       "9             369.198270             13.217221  "
      ]
     },
     "execution_count": 8,
     "metadata": {},
     "output_type": "execute_result"
    }
   ],
   "source": [
    "summary"
   ]
  },
  {
   "cell_type": "code",
   "execution_count": 9,
   "metadata": {},
   "outputs": [
    {
     "data": {
      "text/plain": [
       "'bs_160_dkp_0.554_lr_0.004319477750077014_ls_198,282,453,281'"
      ]
     },
     "execution_count": 9,
     "metadata": {},
     "output_type": "execute_result"
    }
   ],
   "source": [
    "summary['model_name'].iloc[-1]"
   ]
  },
  {
   "cell_type": "markdown",
   "metadata": {},
   "source": [
    "learning rate ~  1e-3 \n",
    "\n",
    "4 layers\n",
    "\n",
    "\n",
    "bs ~ 160 \n",
    "\n",
    "\n",
    "dropout 0.5"
   ]
  },
  {
   "cell_type": "code",
   "execution_count": 10,
   "metadata": {
    "collapsed": true
   },
   "outputs": [],
   "source": [
    "summary2 = pd.read_csv('1512642072.csv')"
   ]
  },
  {
   "cell_type": "code",
   "execution_count": 11,
   "metadata": {
    "collapsed": true
   },
   "outputs": [],
   "source": [
    "summary2.sort_values(by='accuracy', inplace=True)"
   ]
  },
  {
   "cell_type": "code",
   "execution_count": 12,
   "metadata": {},
   "outputs": [
    {
     "data": {
      "text/html": [
       "<div>\n",
       "<style>\n",
       "    .dataframe thead tr:only-child th {\n",
       "        text-align: right;\n",
       "    }\n",
       "\n",
       "    .dataframe thead th {\n",
       "        text-align: left;\n",
       "    }\n",
       "\n",
       "    .dataframe tbody tr th {\n",
       "        vertical-align: top;\n",
       "    }\n",
       "</style>\n",
       "<table border=\"1\" class=\"dataframe\">\n",
       "  <thead>\n",
       "    <tr style=\"text-align: right;\">\n",
       "      <th></th>\n",
       "      <th>accuracy</th>\n",
       "      <th>model_name</th>\n",
       "      <th>elapsed_training_time</th>\n",
       "      <th>elapsed_testing_time</th>\n",
       "    </tr>\n",
       "  </thead>\n",
       "  <tbody>\n",
       "    <tr>\n",
       "      <th>2</th>\n",
       "      <td>0.851212</td>\n",
       "      <td>bs_180_dkp_0.588_lr_0.0009846177419785317_ls_2...</td>\n",
       "      <td>369.413626</td>\n",
       "      <td>13.268664</td>\n",
       "    </tr>\n",
       "    <tr>\n",
       "      <th>8</th>\n",
       "      <td>0.851915</td>\n",
       "      <td>bs_160_dkp_0.515_lr_0.00029864908751330645_ls_...</td>\n",
       "      <td>427.898568</td>\n",
       "      <td>16.345711</td>\n",
       "    </tr>\n",
       "    <tr>\n",
       "      <th>3</th>\n",
       "      <td>0.852300</td>\n",
       "      <td>bs_200_dkp_0.413_lr_0.0012136464351229675_ls_3...</td>\n",
       "      <td>321.793632</td>\n",
       "      <td>12.317719</td>\n",
       "    </tr>\n",
       "    <tr>\n",
       "      <th>9</th>\n",
       "      <td>0.852419</td>\n",
       "      <td>bs_160_dkp_0.572_lr_0.0003592089625500381_ls_3...</td>\n",
       "      <td>474.414890</td>\n",
       "      <td>14.866263</td>\n",
       "    </tr>\n",
       "    <tr>\n",
       "      <th>4</th>\n",
       "      <td>0.853100</td>\n",
       "      <td>bs_200_dkp_0.561_lr_0.00040164703676588795_ls_...</td>\n",
       "      <td>362.219623</td>\n",
       "      <td>12.824662</td>\n",
       "    </tr>\n",
       "    <tr>\n",
       "      <th>0</th>\n",
       "      <td>0.853500</td>\n",
       "      <td>bs_200_dkp_0.402_lr_0.0008736862040118419_ls_3...</td>\n",
       "      <td>348.097817</td>\n",
       "      <td>13.720656</td>\n",
       "    </tr>\n",
       "    <tr>\n",
       "      <th>6</th>\n",
       "      <td>0.853800</td>\n",
       "      <td>bs_200_dkp_0.494_lr_0.0007085147134512091_ls_3...</td>\n",
       "      <td>383.875961</td>\n",
       "      <td>13.574832</td>\n",
       "    </tr>\n",
       "    <tr>\n",
       "      <th>1</th>\n",
       "      <td>0.855859</td>\n",
       "      <td>bs_180_dkp_0.557_lr_0.003524978012503299_ls_15...</td>\n",
       "      <td>413.164146</td>\n",
       "      <td>13.447972</td>\n",
       "    </tr>\n",
       "    <tr>\n",
       "      <th>5</th>\n",
       "      <td>0.856800</td>\n",
       "      <td>bs_200_dkp_0.515_lr_0.0016725342026215023_ls_2...</td>\n",
       "      <td>315.065805</td>\n",
       "      <td>12.234294</td>\n",
       "    </tr>\n",
       "    <tr>\n",
       "      <th>7</th>\n",
       "      <td>0.857500</td>\n",
       "      <td>bs_200_dkp_0.583_lr_0.0030778917815646434_ls_2...</td>\n",
       "      <td>394.611589</td>\n",
       "      <td>14.910273</td>\n",
       "    </tr>\n",
       "  </tbody>\n",
       "</table>\n",
       "</div>"
      ],
      "text/plain": [
       "   accuracy                                         model_name  \\\n",
       "2  0.851212  bs_180_dkp_0.588_lr_0.0009846177419785317_ls_2...   \n",
       "8  0.851915  bs_160_dkp_0.515_lr_0.00029864908751330645_ls_...   \n",
       "3  0.852300  bs_200_dkp_0.413_lr_0.0012136464351229675_ls_3...   \n",
       "9  0.852419  bs_160_dkp_0.572_lr_0.0003592089625500381_ls_3...   \n",
       "4  0.853100  bs_200_dkp_0.561_lr_0.00040164703676588795_ls_...   \n",
       "0  0.853500  bs_200_dkp_0.402_lr_0.0008736862040118419_ls_3...   \n",
       "6  0.853800  bs_200_dkp_0.494_lr_0.0007085147134512091_ls_3...   \n",
       "1  0.855859  bs_180_dkp_0.557_lr_0.003524978012503299_ls_15...   \n",
       "5  0.856800  bs_200_dkp_0.515_lr_0.0016725342026215023_ls_2...   \n",
       "7  0.857500  bs_200_dkp_0.583_lr_0.0030778917815646434_ls_2...   \n",
       "\n",
       "   elapsed_training_time  elapsed_testing_time  \n",
       "2             369.413626             13.268664  \n",
       "8             427.898568             16.345711  \n",
       "3             321.793632             12.317719  \n",
       "9             474.414890             14.866263  \n",
       "4             362.219623             12.824662  \n",
       "0             348.097817             13.720656  \n",
       "6             383.875961             13.574832  \n",
       "1             413.164146             13.447972  \n",
       "5             315.065805             12.234294  \n",
       "7             394.611589             14.910273  "
      ]
     },
     "execution_count": 12,
     "metadata": {},
     "output_type": "execute_result"
    }
   ],
   "source": [
    "summary2"
   ]
  },
  {
   "cell_type": "code",
   "execution_count": 13,
   "metadata": {
    "scrolled": true
   },
   "outputs": [
    {
     "data": {
      "text/plain": [
       "'bs_200_dkp_0.583_lr_0.0030778917815646434_ls_240,256,209,257,339'"
      ]
     },
     "execution_count": 13,
     "metadata": {},
     "output_type": "execute_result"
    }
   ],
   "source": [
    "summary2['model_name'].iloc[-1]"
   ]
  },
  {
   "cell_type": "markdown",
   "metadata": {},
   "source": [
    "For one neuron and relative big learning rate ~0.01  and default values  gives accuracy 0.8658 for baseline "
   ]
  },
  {
   "cell_type": "markdown",
   "metadata": {},
   "source": [
    "### Choosing hyperparameters CNN"
   ]
  },
  {
   "cell_type": "code",
   "execution_count": 14,
   "metadata": {},
   "outputs": [
    {
     "data": {
      "text/plain": [
       "'C:\\\\Users\\\\Qbit\\\\Inzynierka\\\\Models\\\\MLP\\\\hyperparameters_search'"
      ]
     },
     "execution_count": 14,
     "metadata": {},
     "output_type": "execute_result"
    }
   ],
   "source": [
    "os.getcwd()"
   ]
  },
  {
   "cell_type": "code",
   "execution_count": 17,
   "metadata": {},
   "outputs": [],
   "source": [
    "mc.move_to_model_location()"
   ]
  },
  {
   "cell_type": "code",
   "execution_count": 18,
   "metadata": {},
   "outputs": [
    {
     "data": {
      "text/plain": [
       "'C:\\\\Users\\\\Qbit\\\\Inzynierka\\\\Models'"
      ]
     },
     "execution_count": 18,
     "metadata": {},
     "output_type": "execute_result"
    }
   ],
   "source": [
    "\n",
    "os.getcwd()"
   ]
  },
  {
   "cell_type": "code",
   "execution_count": 24,
   "metadata": {},
   "outputs": [
    {
     "ename": "FileNotFoundError",
     "evalue": "[WinError 3] System nie może odnaleźć określonej ścieżki: '.\\\\Models\\\\CNN_Text\\\\hyperparameters_search'",
     "output_type": "error",
     "traceback": [
      "\u001b[1;31m---------------------------------------------------------------------------\u001b[0m",
      "\u001b[1;31mFileNotFoundError\u001b[0m                         Traceback (most recent call last)",
      "\u001b[1;32m<ipython-input-24-59333da82946>\u001b[0m in \u001b[0;36m<module>\u001b[1;34m()\u001b[0m\n\u001b[1;32m----> 1\u001b[1;33m \u001b[0mos\u001b[0m\u001b[1;33m.\u001b[0m\u001b[0mchdir\u001b[0m\u001b[1;33m(\u001b[0m\u001b[0mos\u001b[0m\u001b[1;33m.\u001b[0m\u001b[0mpath\u001b[0m\u001b[1;33m.\u001b[0m\u001b[0mjoin\u001b[0m\u001b[1;33m(\u001b[0m\u001b[0mos\u001b[0m\u001b[1;33m.\u001b[0m\u001b[0mpath\u001b[0m\u001b[1;33m.\u001b[0m\u001b[0mcurdir\u001b[0m\u001b[1;33m,\u001b[0m \u001b[1;34m'Models'\u001b[0m\u001b[1;33m,\u001b[0m \u001b[1;34m'CNN_Text'\u001b[0m\u001b[1;33m,\u001b[0m \u001b[1;34m'hyperparameters_search'\u001b[0m\u001b[1;33m)\u001b[0m\u001b[1;33m)\u001b[0m\u001b[1;33m\u001b[0m\u001b[0m\n\u001b[0m",
      "\u001b[1;31mFileNotFoundError\u001b[0m: [WinError 3] System nie może odnaleźć określonej ścieżki: '.\\\\Models\\\\CNN_Text\\\\hyperparameters_search'"
     ]
    }
   ],
   "source": [
    "os.chdir(os.path.join(os.path.curdir, 'Models', 'CNN_Text', 'hyperparameters_search'))"
   ]
  },
  {
   "cell_type": "code",
   "execution_count": 30,
   "metadata": {},
   "outputs": [
    {
     "data": {
      "text/plain": [
       "'C:\\\\Users\\\\Qbit\\\\Inzynierka\\\\Models\\\\CNN_Text'"
      ]
     },
     "execution_count": 30,
     "metadata": {},
     "output_type": "execute_result"
    }
   ],
   "source": [
    "os.getcwd()"
   ]
  },
  {
   "cell_type": "code",
   "execution_count": 26,
   "metadata": {},
   "outputs": [
    {
     "name": "stdout",
     "output_type": "stream",
     "text": [
      "('eval.py', 0)\n",
      "('hyperparameters_search', 1)\n",
      "('runs', 2)\n",
      "('TextProcessingCNN.py', 3)\n",
      "('train.py', 4)\n",
      "('__init__.py', 5)\n",
      "('__pycache__', 6)\n"
     ]
    }
   ],
   "source": [
    "a = mc.list_directory()"
   ]
  },
  {
   "cell_type": "code",
   "execution_count": 27,
   "metadata": {},
   "outputs": [
    {
     "data": {
      "text/plain": [
       "['eval.py',\n",
       " 'hyperparameters_search',\n",
       " 'runs',\n",
       " 'TextProcessingCNN.py',\n",
       " 'train.py',\n",
       " '__init__.py',\n",
       " '__pycache__']"
      ]
     },
     "execution_count": 27,
     "metadata": {},
     "output_type": "execute_result"
    }
   ],
   "source": []
  },
  {
   "cell_type": "code",
   "execution_count": 31,
   "metadata": {},
   "outputs": [],
   "source": [
    "os.chdir(os.path.join(os.path.curdir, 'hyperparameters_search'))\n",
    "\n"
   ]
  },
  {
   "cell_type": "code",
   "execution_count": 32,
   "metadata": {},
   "outputs": [
    {
     "data": {
      "text/plain": [
       "'C:\\\\Users\\\\Qbit\\\\Inzynierka\\\\Models\\\\CNN_Text\\\\hyperparameters_search'"
      ]
     },
     "execution_count": 32,
     "metadata": {},
     "output_type": "execute_result"
    }
   ],
   "source": [
    "os.getcwd()"
   ]
  },
  {
   "cell_type": "code",
   "execution_count": 34,
   "metadata": {},
   "outputs": [],
   "source": [
    "summary3 = pd.read_csv('1512652834.csv')"
   ]
  },
  {
   "cell_type": "code",
   "execution_count": 36,
   "metadata": {},
   "outputs": [],
   "source": [
    "summary3.sort_values(by=\"accuracy\", inplace=True)"
   ]
  },
  {
   "cell_type": "code",
   "execution_count": 39,
   "metadata": {},
   "outputs": [
    {
     "data": {
      "text/plain": [
       "'bs_300_dkp_0.828_lr_0.0017661446233115604_fs_5_fw_198'"
      ]
     },
     "execution_count": 39,
     "metadata": {},
     "output_type": "execute_result"
    }
   ],
   "source": [
    "summary3.iloc[-1]['model_name']"
   ]
  },
  {
   "cell_type": "code",
   "execution_count": null,
   "metadata": {
    "collapsed": true
   },
   "outputs": [],
   "source": []
  },
  {
   "cell_type": "markdown",
   "metadata": {},
   "source": [
    "### Choosing hyperparameters RNN"
   ]
  },
  {
   "cell_type": "code",
   "execution_count": 40,
   "metadata": {
    "collapsed": true
   },
   "outputs": [],
   "source": [
    "mc.move_to_main_location()"
   ]
  },
  {
   "cell_type": "code",
   "execution_count": 41,
   "metadata": {
    "collapsed": true
   },
   "outputs": [],
   "source": [
    "os.chdir(os.path.join(os.path.curdir, 'Models', 'RNN', 'hyperparameters_search'))"
   ]
  },
  {
   "cell_type": "code",
   "execution_count": 43,
   "metadata": {},
   "outputs": [
    {
     "name": "stdout",
     "output_type": "stream",
     "text": [
      "('1512308601.csv', 0)\n",
      "('1512309910.csv', 1)\n",
      "('1512567790.csv', 2)\n",
      "('1512726749.csv', 3)\n"
     ]
    }
   ],
   "source": [
    "li = mc.list_directory()"
   ]
  },
  {
   "cell_type": "code",
   "execution_count": 44,
   "metadata": {
    "collapsed": true
   },
   "outputs": [],
   "source": [
    "summary4 = pd.read_csv(li[3])"
   ]
  },
  {
   "cell_type": "code",
   "execution_count": 45,
   "metadata": {},
   "outputs": [
    {
     "data": {
      "text/html": [
       "<div>\n",
       "<style>\n",
       "    .dataframe thead tr:only-child th {\n",
       "        text-align: right;\n",
       "    }\n",
       "\n",
       "    .dataframe thead th {\n",
       "        text-align: left;\n",
       "    }\n",
       "\n",
       "    .dataframe tbody tr th {\n",
       "        vertical-align: top;\n",
       "    }\n",
       "</style>\n",
       "<table border=\"1\" class=\"dataframe\">\n",
       "  <thead>\n",
       "    <tr style=\"text-align: right;\">\n",
       "      <th></th>\n",
       "      <th>accuracy</th>\n",
       "      <th>model_name</th>\n",
       "      <th>elapsed_training_time</th>\n",
       "      <th>elapsed_testing_time</th>\n",
       "    </tr>\n",
       "  </thead>\n",
       "  <tbody>\n",
       "    <tr>\n",
       "      <th>0</th>\n",
       "      <td>0.535600</td>\n",
       "      <td>bs_400_dkp_0.345_lr_0.4282823624119213_lstm_u_64</td>\n",
       "      <td>2836.985663</td>\n",
       "      <td>50.966989</td>\n",
       "    </tr>\n",
       "    <tr>\n",
       "      <th>1</th>\n",
       "      <td>0.492036</td>\n",
       "      <td>bs_320_dkp_0.369_lr_5.640931132686258e-05_lstm...</td>\n",
       "      <td>116.465569</td>\n",
       "      <td>24.857310</td>\n",
       "    </tr>\n",
       "    <tr>\n",
       "      <th>2</th>\n",
       "      <td>0.505600</td>\n",
       "      <td>bs_80_dkp_0.71_lr_0.0564223530443909_lstm_u_4</td>\n",
       "      <td>1098.834409</td>\n",
       "      <td>24.788567</td>\n",
       "    </tr>\n",
       "    <tr>\n",
       "      <th>3</th>\n",
       "      <td>0.511414</td>\n",
       "      <td>bs_180_dkp_0.443_lr_8.300861582498025e-05_lstm...</td>\n",
       "      <td>852.752544</td>\n",
       "      <td>23.182552</td>\n",
       "    </tr>\n",
       "    <tr>\n",
       "      <th>4</th>\n",
       "      <td>0.849500</td>\n",
       "      <td>bs_20_dkp_0.494_lr_0.01541064196996132_lstm_u_64</td>\n",
       "      <td>4465.749727</td>\n",
       "      <td>67.076567</td>\n",
       "    </tr>\n",
       "    <tr>\n",
       "      <th>5</th>\n",
       "      <td>0.504000</td>\n",
       "      <td>bs_400_dkp_0.178_lr_1.314933893722296e-06_lstm...</td>\n",
       "      <td>2035.069807</td>\n",
       "      <td>38.970323</td>\n",
       "    </tr>\n",
       "    <tr>\n",
       "      <th>6</th>\n",
       "      <td>0.517105</td>\n",
       "      <td>bs_260_dkp_0.935_lr_5.860126070565224e-06_lstm...</td>\n",
       "      <td>592.774753</td>\n",
       "      <td>64.100283</td>\n",
       "    </tr>\n",
       "    <tr>\n",
       "      <th>7</th>\n",
       "      <td>0.501423</td>\n",
       "      <td>bs_240_dkp_0.059_lr_0.17494627898361015_lstm_u_4</td>\n",
       "      <td>822.144949</td>\n",
       "      <td>23.003186</td>\n",
       "    </tr>\n",
       "    <tr>\n",
       "      <th>8</th>\n",
       "      <td>0.857831</td>\n",
       "      <td>bs_60_dkp_0.338_lr_0.5982935796804548_lstm_u_256</td>\n",
       "      <td>14792.962691</td>\n",
       "      <td>150.093537</td>\n",
       "    </tr>\n",
       "    <tr>\n",
       "      <th>9</th>\n",
       "      <td>0.518788</td>\n",
       "      <td>bs_180_dkp_0.706_lr_0.18042866350423292_lstm_u_16</td>\n",
       "      <td>1110.237078</td>\n",
       "      <td>26.181601</td>\n",
       "    </tr>\n",
       "  </tbody>\n",
       "</table>\n",
       "</div>"
      ],
      "text/plain": [
       "   accuracy                                         model_name  \\\n",
       "0  0.535600   bs_400_dkp_0.345_lr_0.4282823624119213_lstm_u_64   \n",
       "1  0.492036  bs_320_dkp_0.369_lr_5.640931132686258e-05_lstm...   \n",
       "2  0.505600      bs_80_dkp_0.71_lr_0.0564223530443909_lstm_u_4   \n",
       "3  0.511414  bs_180_dkp_0.443_lr_8.300861582498025e-05_lstm...   \n",
       "4  0.849500   bs_20_dkp_0.494_lr_0.01541064196996132_lstm_u_64   \n",
       "5  0.504000  bs_400_dkp_0.178_lr_1.314933893722296e-06_lstm...   \n",
       "6  0.517105  bs_260_dkp_0.935_lr_5.860126070565224e-06_lstm...   \n",
       "7  0.501423   bs_240_dkp_0.059_lr_0.17494627898361015_lstm_u_4   \n",
       "8  0.857831   bs_60_dkp_0.338_lr_0.5982935796804548_lstm_u_256   \n",
       "9  0.518788  bs_180_dkp_0.706_lr_0.18042866350423292_lstm_u_16   \n",
       "\n",
       "   elapsed_training_time  elapsed_testing_time  \n",
       "0            2836.985663             50.966989  \n",
       "1             116.465569             24.857310  \n",
       "2            1098.834409             24.788567  \n",
       "3             852.752544             23.182552  \n",
       "4            4465.749727             67.076567  \n",
       "5            2035.069807             38.970323  \n",
       "6             592.774753             64.100283  \n",
       "7             822.144949             23.003186  \n",
       "8           14792.962691            150.093537  \n",
       "9            1110.237078             26.181601  "
      ]
     },
     "execution_count": 45,
     "metadata": {},
     "output_type": "execute_result"
    }
   ],
   "source": [
    "summary4"
   ]
  },
  {
   "cell_type": "code",
   "execution_count": 46,
   "metadata": {
    "collapsed": true
   },
   "outputs": [],
   "source": [
    "summary4.sort_values(by='accuracy', inplace=True)"
   ]
  },
  {
   "cell_type": "code",
   "execution_count": 47,
   "metadata": {},
   "outputs": [
    {
     "data": {
      "text/html": [
       "<div>\n",
       "<style>\n",
       "    .dataframe thead tr:only-child th {\n",
       "        text-align: right;\n",
       "    }\n",
       "\n",
       "    .dataframe thead th {\n",
       "        text-align: left;\n",
       "    }\n",
       "\n",
       "    .dataframe tbody tr th {\n",
       "        vertical-align: top;\n",
       "    }\n",
       "</style>\n",
       "<table border=\"1\" class=\"dataframe\">\n",
       "  <thead>\n",
       "    <tr style=\"text-align: right;\">\n",
       "      <th></th>\n",
       "      <th>accuracy</th>\n",
       "      <th>model_name</th>\n",
       "      <th>elapsed_training_time</th>\n",
       "      <th>elapsed_testing_time</th>\n",
       "    </tr>\n",
       "  </thead>\n",
       "  <tbody>\n",
       "    <tr>\n",
       "      <th>1</th>\n",
       "      <td>0.492036</td>\n",
       "      <td>bs_320_dkp_0.369_lr_5.640931132686258e-05_lstm...</td>\n",
       "      <td>116.465569</td>\n",
       "      <td>24.857310</td>\n",
       "    </tr>\n",
       "    <tr>\n",
       "      <th>7</th>\n",
       "      <td>0.501423</td>\n",
       "      <td>bs_240_dkp_0.059_lr_0.17494627898361015_lstm_u_4</td>\n",
       "      <td>822.144949</td>\n",
       "      <td>23.003186</td>\n",
       "    </tr>\n",
       "    <tr>\n",
       "      <th>5</th>\n",
       "      <td>0.504000</td>\n",
       "      <td>bs_400_dkp_0.178_lr_1.314933893722296e-06_lstm...</td>\n",
       "      <td>2035.069807</td>\n",
       "      <td>38.970323</td>\n",
       "    </tr>\n",
       "    <tr>\n",
       "      <th>2</th>\n",
       "      <td>0.505600</td>\n",
       "      <td>bs_80_dkp_0.71_lr_0.0564223530443909_lstm_u_4</td>\n",
       "      <td>1098.834409</td>\n",
       "      <td>24.788567</td>\n",
       "    </tr>\n",
       "    <tr>\n",
       "      <th>3</th>\n",
       "      <td>0.511414</td>\n",
       "      <td>bs_180_dkp_0.443_lr_8.300861582498025e-05_lstm...</td>\n",
       "      <td>852.752544</td>\n",
       "      <td>23.182552</td>\n",
       "    </tr>\n",
       "    <tr>\n",
       "      <th>6</th>\n",
       "      <td>0.517105</td>\n",
       "      <td>bs_260_dkp_0.935_lr_5.860126070565224e-06_lstm...</td>\n",
       "      <td>592.774753</td>\n",
       "      <td>64.100283</td>\n",
       "    </tr>\n",
       "    <tr>\n",
       "      <th>9</th>\n",
       "      <td>0.518788</td>\n",
       "      <td>bs_180_dkp_0.706_lr_0.18042866350423292_lstm_u_16</td>\n",
       "      <td>1110.237078</td>\n",
       "      <td>26.181601</td>\n",
       "    </tr>\n",
       "    <tr>\n",
       "      <th>0</th>\n",
       "      <td>0.535600</td>\n",
       "      <td>bs_400_dkp_0.345_lr_0.4282823624119213_lstm_u_64</td>\n",
       "      <td>2836.985663</td>\n",
       "      <td>50.966989</td>\n",
       "    </tr>\n",
       "    <tr>\n",
       "      <th>4</th>\n",
       "      <td>0.849500</td>\n",
       "      <td>bs_20_dkp_0.494_lr_0.01541064196996132_lstm_u_64</td>\n",
       "      <td>4465.749727</td>\n",
       "      <td>67.076567</td>\n",
       "    </tr>\n",
       "    <tr>\n",
       "      <th>8</th>\n",
       "      <td>0.857831</td>\n",
       "      <td>bs_60_dkp_0.338_lr_0.5982935796804548_lstm_u_256</td>\n",
       "      <td>14792.962691</td>\n",
       "      <td>150.093537</td>\n",
       "    </tr>\n",
       "  </tbody>\n",
       "</table>\n",
       "</div>"
      ],
      "text/plain": [
       "   accuracy                                         model_name  \\\n",
       "1  0.492036  bs_320_dkp_0.369_lr_5.640931132686258e-05_lstm...   \n",
       "7  0.501423   bs_240_dkp_0.059_lr_0.17494627898361015_lstm_u_4   \n",
       "5  0.504000  bs_400_dkp_0.178_lr_1.314933893722296e-06_lstm...   \n",
       "2  0.505600      bs_80_dkp_0.71_lr_0.0564223530443909_lstm_u_4   \n",
       "3  0.511414  bs_180_dkp_0.443_lr_8.300861582498025e-05_lstm...   \n",
       "6  0.517105  bs_260_dkp_0.935_lr_5.860126070565224e-06_lstm...   \n",
       "9  0.518788  bs_180_dkp_0.706_lr_0.18042866350423292_lstm_u_16   \n",
       "0  0.535600   bs_400_dkp_0.345_lr_0.4282823624119213_lstm_u_64   \n",
       "4  0.849500   bs_20_dkp_0.494_lr_0.01541064196996132_lstm_u_64   \n",
       "8  0.857831   bs_60_dkp_0.338_lr_0.5982935796804548_lstm_u_256   \n",
       "\n",
       "   elapsed_training_time  elapsed_testing_time  \n",
       "1             116.465569             24.857310  \n",
       "7             822.144949             23.003186  \n",
       "5            2035.069807             38.970323  \n",
       "2            1098.834409             24.788567  \n",
       "3             852.752544             23.182552  \n",
       "6             592.774753             64.100283  \n",
       "9            1110.237078             26.181601  \n",
       "0            2836.985663             50.966989  \n",
       "4            4465.749727             67.076567  \n",
       "8           14792.962691            150.093537  "
      ]
     },
     "execution_count": 47,
     "metadata": {},
     "output_type": "execute_result"
    }
   ],
   "source": [
    "summary4"
   ]
  },
  {
   "cell_type": "code",
   "execution_count": 49,
   "metadata": {},
   "outputs": [
    {
     "data": {
      "text/plain": [
       "'bs_60_dkp_0.338_lr_0.5982935796804548_lstm_u_256'"
      ]
     },
     "execution_count": 49,
     "metadata": {},
     "output_type": "execute_result"
    }
   ],
   "source": [
    "summary4['model_name'].iloc[-1]"
   ]
  },
  {
   "cell_type": "code",
   "execution_count": null,
   "metadata": {
    "collapsed": true
   },
   "outputs": [],
   "source": []
  }
 ],
 "metadata": {
  "kernelspec": {
   "display_name": "Python 3",
   "language": "python",
   "name": "python3"
  },
  "language_info": {
   "codemirror_mode": {
    "name": "ipython",
    "version": 3
   },
   "file_extension": ".py",
   "mimetype": "text/x-python",
   "name": "python",
   "nbconvert_exporter": "python",
   "pygments_lexer": "ipython3",
   "version": "3.6.2"
  }
 },
 "nbformat": 4,
 "nbformat_minor": 2
}
